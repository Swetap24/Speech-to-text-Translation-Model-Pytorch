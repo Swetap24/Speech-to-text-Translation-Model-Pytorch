{
 "cells": [
  {
   "cell_type": "code",
   "execution_count": null,
   "metadata": {},
   "outputs": [],
   "source": [
    "def train(model,train_loader, num_epochs, criterion, optimizer):\n",
    "  for epochs in range(num_epochs):\n",
    "    model.train()\n",
    "    loss_sum = 0\n",
    "    for batch_num,(speech_input, text_input, Labels, speech_len, text_len, Labels_len) in enumerate(train_loader):\n",
    "      with torch.autograd.set_detect_anomaly(True):\n",
    "          speech_input=speech_input.to(device)\n",
    "          text_input=text_input.to(device)\n",
    "          Labels=Labels.to(device)\n",
    "\n",
    "          optimizer.zero_grad()\n",
    "          pred = model(speech_input, speech_len, text_input)\n",
    "          mask = torch.zeros(Labels.T.size()).to(device)\n",
    "          pred = pred.contiguous().view(-1, pred.size(-1))\n",
    "          Labels = torch.transpose(Labels,0,1).contiguous().view(-1)\n",
    "\n",
    "          for idx, length in enumerate(Labels_len):\n",
    "              mask[:length,idx] = 1\n",
    "          \n",
    "          mask = mask.contiguous().view(-1).to(device)\n",
    "          loss = criterion(pred, Labels)\n",
    "          masked_loss = torch.sum(loss*mask)\n",
    "          masked_loss.backward()\n",
    "          torch.nn.utils.clip_grad_norm_(model.parameters(), 2)\n",
    "          optimizer.step()\n",
    "          current_loss = float(masked_loss.item())/int(torch.sum(mask).item())\n",
    "\n",
    "          if  batch_num % 25 == 1:\n",
    "            print('Epoch: ',epochs, 'Train_loss: ', current_loss)\n",
    "          torch.cuda.empty_cache()\n"
   ]
  },
  {
   "cell_type": "code",
   "execution_count": null,
   "metadata": {},
   "outputs": [],
   "source": [
    "train(model, train_loader, 5, criterion, optimizer)"
   ]
  }
 ],
 "metadata": {
  "kernelspec": {
   "display_name": "Python 3",
   "language": "python",
   "name": "python3"
  },
  "language_info": {
   "codemirror_mode": {
    "name": "ipython",
    "version": 3
   },
   "file_extension": ".py",
   "mimetype": "text/x-python",
   "name": "python",
   "nbconvert_exporter": "python",
   "pygments_lexer": "ipython3",
   "version": "3.7.3"
  }
 },
 "nbformat": 4,
 "nbformat_minor": 2
}
