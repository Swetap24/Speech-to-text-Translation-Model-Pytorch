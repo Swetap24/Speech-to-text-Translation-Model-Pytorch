{
 "cells": [
  {
   "cell_type": "code",
   "execution_count": null,
   "metadata": {},
   "outputs": [],
   "source": [
    "class Seq2Seq(nn.Module):\n",
    "  def __init__(self,input_dim,vocab_size,hidden_dim,value_size=128, key_size=128,isAttended=True):\n",
    "    super(Seq2Seq,self).__init__()\n",
    "\n",
    "    self.encoder = Encoder(input_dim, hidden_dim)\n",
    "    self.decoder = Decoder(vocab_size, hidden_dim, isAttended=True)\n",
    "  def forward(self,speech_input, speech_len, text_input=None,train=True):\n",
    "    key, value, length = self.encoder(speech_input, speech_len)\n",
    "    if(train):\n",
    "      predictions = self.decoder(key, value, length, text_input, train=True)\n",
    "    else:\n",
    "      predictions = self.decoder(key, value, length, text=None, train=False)\n",
    "    return predictions"
   ]
  },
  {
   "cell_type": "code",
   "execution_count": null,
   "metadata": {},
   "outputs": [],
   "source": [
    "model = Seq2Seq(input_dim=40,vocab_size=len(letter_list),hidden_dim=512,value_size=128, key_size=128)\n",
    "model = model.to(device)\n",
    "optimizer = torch.optim.Adam (model.parameters(), lr=0.001)\n",
    "criterion = nn.CrossEntropyLoss(reduce=False).to(device)"
   ]
  }
 ],
 "metadata": {
  "kernelspec": {
   "display_name": "Python 3",
   "language": "python",
   "name": "python3"
  },
  "language_info": {
   "codemirror_mode": {
    "name": "ipython",
    "version": 3
   },
   "file_extension": ".py",
   "mimetype": "text/x-python",
   "name": "python",
   "nbconvert_exporter": "python",
   "pygments_lexer": "ipython3",
   "version": "3.7.3"
  }
 },
 "nbformat": 4,
 "nbformat_minor": 2
}
