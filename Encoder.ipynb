{
 "cells": [
  {
   "cell_type": "code",
   "execution_count": null,
   "metadata": {},
   "outputs": [],
   "source": [
    "import torch.nn.utils.rnn as rnn\n",
    "from torch.utils.data import Dataset, DataLoader, TensorDataset\n",
    "from torch.nn.utils.rnn import pad_packed_sequence, pack_padded_sequence"
   ]
  },
  {
   "cell_type": "code",
   "execution_count": null,
   "metadata": {},
   "outputs": [],
   "source": [
    "class pBLSTM(nn.Module):\n",
    "  def __init__(self, input_dim, hidden_dim):\n",
    "      super(pBLSTM, self).__init__()\n",
    "      self.blstm = nn.LSTM(input_size=input_dim,hidden_size=hidden_dim,num_layers=1,bidirectional=True)\n",
    "  def forward(self,x):\n",
    "    return self.blstm(x)"
   ]
  },
  {
   "cell_type": "code",
   "execution_count": null,
   "metadata": {},
   "outputs": [],
   "source": [
    "class Encoder(nn.Module):\n",
    "  def __init__(self, input_dim, hidden_dim, value_size=128,key_size=128):\n",
    "    super(Encoder, self).__init__()\n",
    "    self.lstm = nn.LSTM(input_size=input_dim,hidden_size=hidden_dim,num_layers=1,bidirectional=True)\n",
    "    self.pBLSTM1= pBLSTM(2*hidden_dim, hidden_dim)\n",
    "    self.pBLSTM2= pBLSTM(2*hidden_dim, hidden_dim)\n",
    "    self.pBLSTM3= pBLSTM(2*hidden_dim, hidden_dim)\n",
    "    #Here you need to define the blocks of pBLSTMs\n",
    "    self.key_network = nn.Linear(hidden_dim*2, value_size)\n",
    "    self.value_network = nn.Linear(hidden_dim*2, key_size)\n",
    "  \n",
    "  def forward(self, x, lens):\n",
    "        rnn_inp=utils.rnn.pack_padded_sequence(x, lengths=lens, enforce_sorted=False)\n",
    "        outputs, _=self.lstm(rnn_inp)\n",
    "        linear_input, _=utils.rnn.pad_packed_sequence(outputs)\n",
    "        \n",
    "        for i in range(3):\n",
    "            if linear_input.shape[0]%2!=0:\n",
    "                linear_input = linear_input[:-1,:,:]\n",
    "            outputs = torch.transpose(linear_input, 0, 1)\n",
    "            outputs = outputs.contiguous().view(outputs.shape[0], outputs.shape[1]//2, 2, outputs.shape[2])\n",
    "            outputs = torch.mean(outputs, 2)\n",
    "            outputs = torch.transpose(outputs,0,1)\n",
    "            lens=lens//2\n",
    "            rnn_inp = utils.rnn.pack_padded_sequence(outputs, lengths=lens, enforce_sorted=False)\n",
    "            if i==0:\n",
    "                outputs, _=self.pBLSTM1(rnn_inp)\n",
    "            elif i==1:\n",
    "                outputs, _=self.pBLSTM2(rnn_inp)\n",
    "            else:\n",
    "                outputs, _=self.pBLSTM3(rnn_inp)\n",
    "            linear_input, _=utils.rnn.pad_packed_sequence(outputs)\n",
    "\n",
    "        # Generate key and value pairs\n",
    "        keys = self.key_network(linear_input)\n",
    "        value = self.value_network(linear_input)\n",
    "\n",
    "        return keys, value, lens"
   ]
  }
 ],
 "metadata": {
  "kernelspec": {
   "display_name": "Python 3",
   "language": "python",
   "name": "python3"
  },
  "language_info": {
   "codemirror_mode": {
    "name": "ipython",
    "version": 3
   },
   "file_extension": ".py",
   "mimetype": "text/x-python",
   "name": "python",
   "nbconvert_exporter": "python",
   "pygments_lexer": "ipython3",
   "version": "3.7.3"
  }
 },
 "nbformat": 4,
 "nbformat_minor": 2
}
