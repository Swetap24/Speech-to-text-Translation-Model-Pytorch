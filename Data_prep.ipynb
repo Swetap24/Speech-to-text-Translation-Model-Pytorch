{
 "cells": [
  {
   "cell_type": "markdown",
   "metadata": {},
   "source": [
    "# Data Preparation"
   ]
  },
  {
   "cell_type": "markdown",
   "metadata": {},
   "source": [
    "# Character level data preparation"
   ]
  },
  {
   "cell_type": "code",
   "execution_count": null,
   "metadata": {},
   "outputs": [],
   "source": [
    "speech_train = np.load('train file path', allow_pickle=True, encoding='bytes')\n",
    "speech_valid = np.load('validation file path', allow_pickle=True, encoding='bytes')\n",
    "speech_test = np.load('test file path', allow_pickle=True, encoding='bytes')\n",
    "\n",
    "transcript_train = np.load('train transcripts file for testing', allow_pickle=True,encoding='bytes')\n",
    "transcript_valid = np.load('validation transcripts file for testing', allow_pickle=True,encoding='bytes')\n"
   ]
  },
  {
   "cell_type": "code",
   "execution_count": null,
   "metadata": {},
   "outputs": [],
   "source": [
    "letter_list = [' ','A', 'B', 'C', 'D', 'E', 'F', 'G', 'H', 'I', 'J', 'K', 'L', 'M', 'N', 'O', 'P', 'Q',\\\n",
    "             'R', 'S', 'T', 'U', 'V', 'W', 'X', 'Y', 'Z', '-', \"'\", '.', '_', '+', ' ','<sos>','<eos>']"
   ]
  },
  {
   "cell_type": "code",
   "execution_count": null,
   "metadata": {},
   "outputs": [],
   "source": [
    "a=transcript_train\n",
    "alls=[]\n",
    "for i, each in enumerate(a):\n",
    "    m=[]\n",
    "    for p, item in enumerate(a[i]):\n",
    "        for f, item2 in enumerate(a[i][p]):\n",
    "          if p==0 and f==0:\n",
    "              m.insert(0, '<sos>')\n",
    "              m.append(a[i][p].decode()[f])\n",
    "          elif p==len(a[i])-1 and f==len(a[i][p])-1:\n",
    "              m.append(a[i][p].decode()[f])\n",
    "              m.append('<eos>')\n",
    "          elif f==len(a[i][p])-1:\n",
    "              m.append(a[i][p].decode()[f])\n",
    "              m.append(\" \")\n",
    "          else:\n",
    "              m.append(a[i][p].decode()[f])\n",
    "    alls.append(m)"
   ]
  },
  {
   "cell_type": "code",
   "execution_count": null,
   "metadata": {},
   "outputs": [],
   "source": [
    "a=transcript_valid\n",
    "allsv=[]\n",
    "for i, each in enumerate(a):\n",
    "    m=[]\n",
    "    for p, item in enumerate(a[i]):\n",
    "        for f, item2 in enumerate(a[i][p]):\n",
    "          if p==0 and f==0:\n",
    "              m.insert(0, '<sos>')\n",
    "              m.append(a[i][p].decode()[f])\n",
    "          elif p==len(a[i])-1 and f==len(a[i][p])-1:\n",
    "              m.append(a[i][p].decode()[f])\n",
    "              m.append('<eos>')\n",
    "          elif f==len(a[i][p])-1:\n",
    "              m.append(a[i][p].decode()[f])\n",
    "              m.append(\" \")\n",
    "          else:\n",
    "              m.append(a[i][p].decode()[f])\n",
    "    allsv.append(m)"
   ]
  },
  {
   "cell_type": "code",
   "execution_count": null,
   "metadata": {},
   "outputs": [],
   "source": [
    "def transform_letter_to_index(transcript, letter_list):\n",
    "    '''\n",
    "    :param transcript :(N, ) Transcripts are the text input\n",
    "    :param letter_list: Letter list defined above\n",
    "    :return letter_to_index_list: Returns a list for all the transcript sentence to index\n",
    "    '''\n",
    "    letter_to_index_list=[]   \n",
    "    for i, o in enumerate(transcript):\n",
    "      index_list=[] \n",
    "      for s, a in enumerate(transcript[i]):\n",
    "          check =  all(a in letter_list for item in transcript[i])\n",
    "          if check is True:\n",
    "              index_list.append(letter_list.index(a))\n",
    "      letter_to_index_list.append(index_list)\n",
    "    return letter_to_index_list"
   ]
  },
  {
   "cell_type": "code",
   "execution_count": null,
   "metadata": {},
   "outputs": [],
   "source": [
    "character_text_train = transform_letter_to_index(alls, letter_list)\n",
    "character_text_valid = transform_letter_to_index(allsv, letter_list)"
   ]
  }
 ],
 "metadata": {
  "kernelspec": {
   "display_name": "Python 3",
   "language": "python",
   "name": "python3"
  },
  "language_info": {
   "codemirror_mode": {
    "name": "ipython",
    "version": 3
   },
   "file_extension": ".py",
   "mimetype": "text/x-python",
   "name": "python",
   "nbconvert_exporter": "python",
   "pygments_lexer": "ipython3",
   "version": "3.7.3"
  }
 },
 "nbformat": 4,
 "nbformat_minor": 2
}
